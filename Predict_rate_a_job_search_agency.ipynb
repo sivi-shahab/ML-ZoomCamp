{
 "cells": [
  {
   "cell_type": "markdown",
   "metadata": {
    "id": "RiJpPrw7HbA-"
   },
   "source": [
    "# Problem description\n",
    "\n",
    "The problem of interest is the prediction of apply rate. Imagine a user visiting a website, and performing a job search. From the set of displayed results, user clicks on certain ones that she is interested in, and after checking job descriptions, she further clicks on apply button therein to land in to an application page. The apply rate is defined as the fraction of applies (after visiting job description pages), and the goal is to predict this metric using the dataset described in the following section."
   ]
  },
  {
   "cell_type": "markdown",
   "metadata": {
    "id": "U1iTvcOSJiJB"
   },
   "source": [
    "### Data Collection"
   ]
  },
  {
   "cell_type": "code",
   "execution_count": 22,
   "metadata": {
    "id": "AkDygRACJLAC"
   },
   "outputs": [],
   "source": [
    "# import library\n",
    "\n",
    "import pandas as pd\n",
    "import numpy as np\n",
    "import seaborn as sns\n",
    "import matplotlib.pyplot as plt\n",
    "%matplotlib inline"
   ]
  },
  {
   "cell_type": "code",
   "execution_count": 23,
   "metadata": {
    "colab": {
     "base_uri": "https://localhost:8080/",
     "height": 381
    },
    "id": "X5gl76G3GXzF",
    "outputId": "8bd13b46-bc10-4c88-c3f6-3ca7d9c7aeb9"
   },
   "outputs": [],
   "source": [
    "df = pd.read_csv('data/Apply_Rate_2019.csv')"
   ]
  },
  {
   "cell_type": "code",
   "execution_count": 24,
   "metadata": {
    "id": "WJQL5dvqKjll"
   },
   "outputs": [
    {
     "data": {
      "text/html": [
       "<div>\n",
       "<style scoped>\n",
       "    .dataframe tbody tr th:only-of-type {\n",
       "        vertical-align: middle;\n",
       "    }\n",
       "\n",
       "    .dataframe tbody tr th {\n",
       "        vertical-align: top;\n",
       "    }\n",
       "\n",
       "    .dataframe thead th {\n",
       "        text-align: right;\n",
       "    }\n",
       "</style>\n",
       "<table border=\"1\" class=\"dataframe\">\n",
       "  <thead>\n",
       "    <tr style=\"text-align: right;\">\n",
       "      <th></th>\n",
       "      <th>title_proximity_tfidf</th>\n",
       "      <th>description_proximity_tfidf</th>\n",
       "      <th>main_query_tfidf</th>\n",
       "      <th>query_jl_score</th>\n",
       "      <th>query_title_score</th>\n",
       "      <th>city_match</th>\n",
       "      <th>job_age_days</th>\n",
       "      <th>apply</th>\n",
       "      <th>search_date_pacific</th>\n",
       "      <th>class_id</th>\n",
       "    </tr>\n",
       "  </thead>\n",
       "  <tbody>\n",
       "    <tr>\n",
       "      <th>0</th>\n",
       "      <td>0.000000</td>\n",
       "      <td>0.000000</td>\n",
       "      <td>0.000000</td>\n",
       "      <td>0.004824</td>\n",
       "      <td>0.006628</td>\n",
       "      <td>0.0</td>\n",
       "      <td>5.0</td>\n",
       "      <td>0</td>\n",
       "      <td>2018-01-21</td>\n",
       "      <td>-7613806991329176388</td>\n",
       "    </tr>\n",
       "    <tr>\n",
       "      <th>1</th>\n",
       "      <td>11.874042</td>\n",
       "      <td>0.043637</td>\n",
       "      <td>2.527080</td>\n",
       "      <td>0.011935</td>\n",
       "      <td>0.011208</td>\n",
       "      <td>0.0</td>\n",
       "      <td>5.0</td>\n",
       "      <td>0</td>\n",
       "      <td>2018-01-21</td>\n",
       "      <td>-1361819269400927213</td>\n",
       "    </tr>\n",
       "    <tr>\n",
       "      <th>2</th>\n",
       "      <td>11.874042</td>\n",
       "      <td>0.043637</td>\n",
       "      <td>2.527080</td>\n",
       "      <td>0.011935</td>\n",
       "      <td>0.011208</td>\n",
       "      <td>0.0</td>\n",
       "      <td>5.0</td>\n",
       "      <td>1</td>\n",
       "      <td>2018-01-21</td>\n",
       "      <td>-1361819269400927213</td>\n",
       "    </tr>\n",
       "    <tr>\n",
       "      <th>3</th>\n",
       "      <td>0.000000</td>\n",
       "      <td>0.000000</td>\n",
       "      <td>3.695809</td>\n",
       "      <td>0.013046</td>\n",
       "      <td>0.033340</td>\n",
       "      <td>0.0</td>\n",
       "      <td>5.0</td>\n",
       "      <td>0</td>\n",
       "      <td>2018-01-23</td>\n",
       "      <td>-3623880078591607667</td>\n",
       "    </tr>\n",
       "    <tr>\n",
       "      <th>4</th>\n",
       "      <td>NaN</td>\n",
       "      <td>NaN</td>\n",
       "      <td>7.868900</td>\n",
       "      <td>0.008065</td>\n",
       "      <td>0.008772</td>\n",
       "      <td>0.0</td>\n",
       "      <td>7.0</td>\n",
       "      <td>0</td>\n",
       "      <td>2018-01-24</td>\n",
       "      <td>-7054510112423797411</td>\n",
       "    </tr>\n",
       "  </tbody>\n",
       "</table>\n",
       "</div>"
      ],
      "text/plain": [
       "   title_proximity_tfidf  description_proximity_tfidf  main_query_tfidf  \\\n",
       "0               0.000000                     0.000000          0.000000   \n",
       "1              11.874042                     0.043637          2.527080   \n",
       "2              11.874042                     0.043637          2.527080   \n",
       "3               0.000000                     0.000000          3.695809   \n",
       "4                    NaN                          NaN          7.868900   \n",
       "\n",
       "   query_jl_score  query_title_score  city_match  job_age_days  apply  \\\n",
       "0        0.004824           0.006628         0.0           5.0      0   \n",
       "1        0.011935           0.011208         0.0           5.0      0   \n",
       "2        0.011935           0.011208         0.0           5.0      1   \n",
       "3        0.013046           0.033340         0.0           5.0      0   \n",
       "4        0.008065           0.008772         0.0           7.0      0   \n",
       "\n",
       "  search_date_pacific             class_id  \n",
       "0          2018-01-21 -7613806991329176388  \n",
       "1          2018-01-21 -1361819269400927213  \n",
       "2          2018-01-21 -1361819269400927213  \n",
       "3          2018-01-23 -3623880078591607667  \n",
       "4          2018-01-24 -7054510112423797411  "
      ]
     },
     "execution_count": 24,
     "metadata": {},
     "output_type": "execute_result"
    }
   ],
   "source": [
    "df.head()"
   ]
  },
  {
   "cell_type": "markdown",
   "metadata": {
    "id": "xGkqut6uOEFv"
   },
   "source": [
    "Each row in the dataset corresponds to a user’s view of a job listing. It has 10 columns as described below.\n",
    "\n",
    "1. title proximity tfidf: Measures the closeness of query and job title.\n",
    "2. description proximity tfidf: Measures the closeness of query and job description.\n",
    "3. main query tfidf: A score related to user query closeness to job title and job description.\n",
    "4. query jl score: Measures the popularity of query and job listing pair.\n",
    "5. query title score: Measures the popularity of query and job title pair.\n",
    "6. city match: Indicates if the job listing matches to user (or, user-specified) location.\n",
    "7. job age days: Indicates the age of job listing posted.\n",
    "8. apply: Indicates if the user has applied for this job listing.\n",
    "9. search date pacific: Date of the activity.\n",
    "10. class id: Class ID of the job title clicked."
   ]
  },
  {
   "cell_type": "markdown",
   "metadata": {
    "id": "E5CmiJ5-O7r3"
   },
   "source": [
    "There are two parts to the problem.\n",
    "\n",
    ". We have to only focus on the first 7 columns and use these as features to predict how many users apply to the website.\n",
    "\n",
    ". We have to consider adding the last column to the feature set (“class id”) and check if the classification performance increases or not."
   ]
  },
  {
   "cell_type": "markdown",
   "metadata": {
    "id": "Q8JXf7YIJQOq"
   },
   "source": [
    "## Exploratory Data Analysis"
   ]
  },
  {
   "cell_type": "code",
   "execution_count": 25,
   "metadata": {
    "id": "glPL6LQKJIuI"
   },
   "outputs": [
    {
     "name": "stdout",
     "output_type": "stream",
     "text": [
      "Total number of observations in the dataset are: 1200890\n"
     ]
    }
   ],
   "source": [
    "# Check the total number of observations in the dataset\n",
    "\n",
    "print('Total number of observations in the dataset are:', df.shape[0])"
   ]
  },
  {
   "cell_type": "code",
   "execution_count": 26,
   "metadata": {
    "id": "uldU10_dO4ul"
   },
   "outputs": [
    {
     "name": "stdout",
     "output_type": "stream",
     "text": [
      "<class 'pandas.core.frame.DataFrame'>\n",
      "RangeIndex: 1200890 entries, 0 to 1200889\n",
      "Data columns (total 10 columns):\n",
      " #   Column                       Non-Null Count    Dtype  \n",
      "---  ------                       --------------    -----  \n",
      " 0   title_proximity_tfidf        948319 non-null   float64\n",
      " 1   description_proximity_tfidf  948319 non-null   float64\n",
      " 2   main_query_tfidf             1200890 non-null  float64\n",
      " 3   query_jl_score               1200890 non-null  float64\n",
      " 4   query_title_score            1200890 non-null  float64\n",
      " 5   city_match                   944335 non-null   float64\n",
      " 6   job_age_days                 1200890 non-null  float64\n",
      " 7   apply                        1200890 non-null  int64  \n",
      " 8   search_date_pacific          1200890 non-null  object \n",
      " 9   class_id                     1200890 non-null  int64  \n",
      "dtypes: float64(7), int64(2), object(1)\n",
      "memory usage: 91.6+ MB\n"
     ]
    }
   ],
   "source": [
    "df.info()"
   ]
  },
  {
   "cell_type": "markdown",
   "metadata": {
    "id": "gqYwSWVsS31G"
   },
   "source": [
    "**Observation:**\n",
    "\n",
    "1. title_proximity_tfidf, description_proximity_tfidf and city_match contains null values\n",
    "2. There are 7 float type, 2 integer type and 1 object type features\n"
   ]
  },
  {
   "cell_type": "code",
   "execution_count": 27,
   "metadata": {
    "id": "eeFZqMbbTt16"
   },
   "outputs": [
    {
     "data": {
      "text/html": [
       "<div>\n",
       "<style scoped>\n",
       "    .dataframe tbody tr th:only-of-type {\n",
       "        vertical-align: middle;\n",
       "    }\n",
       "\n",
       "    .dataframe tbody tr th {\n",
       "        vertical-align: top;\n",
       "    }\n",
       "\n",
       "    .dataframe thead th {\n",
       "        text-align: right;\n",
       "    }\n",
       "</style>\n",
       "<table border=\"1\" class=\"dataframe\">\n",
       "  <thead>\n",
       "    <tr style=\"text-align: right;\">\n",
       "      <th></th>\n",
       "      <th>title_proximity_tfidf</th>\n",
       "      <th>description_proximity_tfidf</th>\n",
       "      <th>main_query_tfidf</th>\n",
       "      <th>query_jl_score</th>\n",
       "      <th>query_title_score</th>\n",
       "      <th>city_match</th>\n",
       "      <th>job_age_days</th>\n",
       "      <th>class_id</th>\n",
       "    </tr>\n",
       "  </thead>\n",
       "  <tbody>\n",
       "    <tr>\n",
       "      <th>count</th>\n",
       "      <td>948319.000000</td>\n",
       "      <td>948319.000000</td>\n",
       "      <td>1.200890e+06</td>\n",
       "      <td>1.200890e+06</td>\n",
       "      <td>1.200890e+06</td>\n",
       "      <td>944335.000000</td>\n",
       "      <td>1.200890e+06</td>\n",
       "      <td>1.200890e+06</td>\n",
       "    </tr>\n",
       "    <tr>\n",
       "      <th>mean</th>\n",
       "      <td>5.889800</td>\n",
       "      <td>0.096119</td>\n",
       "      <td>1.770301e+00</td>\n",
       "      <td>1.711024e-02</td>\n",
       "      <td>3.580456e-02</td>\n",
       "      <td>0.563676</td>\n",
       "      <td>1.010130e+01</td>\n",
       "      <td>-3.956263e+17</td>\n",
       "    </tr>\n",
       "    <tr>\n",
       "      <th>std</th>\n",
       "      <td>9.749672</td>\n",
       "      <td>0.284249</td>\n",
       "      <td>2.237259e+00</td>\n",
       "      <td>1.220871e-02</td>\n",
       "      <td>4.886690e-02</td>\n",
       "      <td>0.495929</td>\n",
       "      <td>1.738912e+01</td>\n",
       "      <td>5.664017e+18</td>\n",
       "    </tr>\n",
       "    <tr>\n",
       "      <th>min</th>\n",
       "      <td>0.000000</td>\n",
       "      <td>0.000000</td>\n",
       "      <td>0.000000e+00</td>\n",
       "      <td>1.000000e-06</td>\n",
       "      <td>9.998021e-07</td>\n",
       "      <td>0.000000</td>\n",
       "      <td>0.000000e+00</td>\n",
       "      <td>-9.049388e+18</td>\n",
       "    </tr>\n",
       "    <tr>\n",
       "      <th>25%</th>\n",
       "      <td>0.000000</td>\n",
       "      <td>0.000000</td>\n",
       "      <td>0.000000e+00</td>\n",
       "      <td>1.063830e-02</td>\n",
       "      <td>1.256780e-02</td>\n",
       "      <td>0.000000</td>\n",
       "      <td>2.000000e+00</td>\n",
       "      <td>-4.593390e+18</td>\n",
       "    </tr>\n",
       "    <tr>\n",
       "      <th>50%</th>\n",
       "      <td>0.000000</td>\n",
       "      <td>0.000000</td>\n",
       "      <td>2.509947e-01</td>\n",
       "      <td>1.578868e-02</td>\n",
       "      <td>2.066189e-02</td>\n",
       "      <td>1.000000</td>\n",
       "      <td>6.000000e+00</td>\n",
       "      <td>-1.614083e+18</td>\n",
       "    </tr>\n",
       "    <tr>\n",
       "      <th>75%</th>\n",
       "      <td>11.642839</td>\n",
       "      <td>0.063633</td>\n",
       "      <td>3.423265e+00</td>\n",
       "      <td>2.043710e-02</td>\n",
       "      <td>3.760018e-02</td>\n",
       "      <td>1.000000</td>\n",
       "      <td>1.400000e+01</td>\n",
       "      <td>4.315422e+18</td>\n",
       "    </tr>\n",
       "    <tr>\n",
       "      <th>max</th>\n",
       "      <td>93.516720</td>\n",
       "      <td>7.301161</td>\n",
       "      <td>1.774189e+01</td>\n",
       "      <td>2.556893e-01</td>\n",
       "      <td>1.294088e+00</td>\n",
       "      <td>1.000000</td>\n",
       "      <td>1.340000e+03</td>\n",
       "      <td>9.204124e+18</td>\n",
       "    </tr>\n",
       "  </tbody>\n",
       "</table>\n",
       "</div>"
      ],
      "text/plain": [
       "       title_proximity_tfidf  description_proximity_tfidf  main_query_tfidf  \\\n",
       "count          948319.000000                948319.000000      1.200890e+06   \n",
       "mean                5.889800                     0.096119      1.770301e+00   \n",
       "std                 9.749672                     0.284249      2.237259e+00   \n",
       "min                 0.000000                     0.000000      0.000000e+00   \n",
       "25%                 0.000000                     0.000000      0.000000e+00   \n",
       "50%                 0.000000                     0.000000      2.509947e-01   \n",
       "75%                11.642839                     0.063633      3.423265e+00   \n",
       "max                93.516720                     7.301161      1.774189e+01   \n",
       "\n",
       "       query_jl_score  query_title_score     city_match  job_age_days  \\\n",
       "count    1.200890e+06       1.200890e+06  944335.000000  1.200890e+06   \n",
       "mean     1.711024e-02       3.580456e-02       0.563676  1.010130e+01   \n",
       "std      1.220871e-02       4.886690e-02       0.495929  1.738912e+01   \n",
       "min      1.000000e-06       9.998021e-07       0.000000  0.000000e+00   \n",
       "25%      1.063830e-02       1.256780e-02       0.000000  2.000000e+00   \n",
       "50%      1.578868e-02       2.066189e-02       1.000000  6.000000e+00   \n",
       "75%      2.043710e-02       3.760018e-02       1.000000  1.400000e+01   \n",
       "max      2.556893e-01       1.294088e+00       1.000000  1.340000e+03   \n",
       "\n",
       "           class_id  \n",
       "count  1.200890e+06  \n",
       "mean  -3.956263e+17  \n",
       "std    5.664017e+18  \n",
       "min   -9.049388e+18  \n",
       "25%   -4.593390e+18  \n",
       "50%   -1.614083e+18  \n",
       "75%    4.315422e+18  \n",
       "max    9.204124e+18  "
      ]
     },
     "execution_count": 27,
     "metadata": {},
     "output_type": "execute_result"
    }
   ],
   "source": [
    "# Calculate statistics\n",
    "\n",
    "df.drop(['apply'],axis=1).describe()"
   ]
  },
  {
   "cell_type": "markdown",
   "metadata": {
    "id": "BWADxp0LVirq"
   },
   "source": [
    "**Observation:**\n",
    "\n",
    "1. There is notably a large difference between 75th percentile and max values of mostly all the predictors.\n",
    "2. Median value of ‘title_proximity_tfidf’, ‘description_proximity_tfidf’, ‘main_query_tfidf’, ‘query_jl_score’, ‘query_title_score’, ‘job_age_days’ is lower than mean\n",
    "3. Thus observation 1 and 2 suggest there are lot of outliers in the data"
   ]
  },
  {
   "cell_type": "code",
   "execution_count": 28,
   "metadata": {
    "id": "YwTzj4xZVgBH"
   },
   "outputs": [
    {
     "name": "stdout",
     "output_type": "stream",
     "text": [
      "Number of customers who didnt apply: 1092887\n",
      "Number of customers who applied: 108003\n",
      "Percentage of apply to non apply 10.119042989546587 %\n"
     ]
    },
    {
     "data": {
      "image/png": "[encoded data removed]",
      "text/plain": [
       "<Figure size 432x288 with 1 Axes>"
      ]
     },
     "metadata": {
      "needs_background": "light"
     },
     "output_type": "display_data"
    }
   ],
   "source": [
    "# Lets check the distribution for classes who applied and did not apply\n",
    "\n",
    "count_classes = pd.value_counts(df['apply'], sort = True)\n",
    "count_classes.plot(kind = 'bar')\n",
    "\n",
    "plt.title(\"Apply Rate\")\n",
    "plt.xticks(range(2))\n",
    "plt.xlabel(\"Class\")\n",
    "plt.ylabel(\"Frequency\");\n",
    "\n",
    "print('Number of customers who didnt apply:',df['apply'].value_counts()[0])\n",
    "print('Number of customers who applied:',df['apply'].value_counts()[1])\n",
    "print('Percentage of apply to non apply',df['apply'].value_counts()[0]/df['apply'].value_counts()[1],'%')"
   ]
  },
  {
   "cell_type": "markdown",
   "metadata": {
    "id": "gOL6PVOhYg5_"
   },
   "source": [
    "**Observation:**\n",
    "\n",
    "The data is imbalanced and so we might have to use techniques like resampling (undersampling or oversampling) or use metrics like AUC-ROC curve or AUPRC or SMOTE to handle imbalanced data. Lets explore further which will help us decide what technique should we use. Note: It is already given in the dataset that I have to use AUC as the metric."
   ]
  },
  {
   "cell_type": "code",
   "execution_count": 29,
   "metadata": {
    "id": "fSxsVZRqYfDg"
   },
   "outputs": [
    {
     "data": {
      "text/plain": [
       "<AxesSubplot:>"
      ]
     },
     "execution_count": 29,
     "metadata": {},
     "output_type": "execute_result"
    },
    {
     "data": {
      "image/png": "[encoded data removed]",
      "text/plain": [
       "<Figure size 432x288 with 2 Axes>"
      ]
     },
     "metadata": {
      "needs_background": "light"
     },
     "output_type": "display_data"
    }
   ],
   "source": [
    "# Lets check the correlation between the features\n",
    "\n",
    "sns.heatmap(df.corr())"
   ]
  },
  {
   "cell_type": "markdown",
   "metadata": {
    "id": "WeKqXd_pZP9g"
   },
   "source": [
    "**Observation:**\n",
    "\n",
    "1. title_proximity_tfidf and main_query_tfidf are correlated with value of arounf 0.7\n",
    "2. Other features are not highly correlated"
   ]
  },
  {
   "cell_type": "code",
   "execution_count": 31,
   "metadata": {
    "id": "FexZUZppZO2A"
   },
   "outputs": [
    {
     "name": "stderr",
     "output_type": "stream",
     "text": [
      "<ipython-input-31-917cb0457d1b>:10: MatplotlibDeprecationWarning: Passing non-integers as three-element position specification is deprecated since 3.3 and will be removed two minor releases later.\n",
      "  plt.subplot(number_of_rows + 1,number_of_columns,i+1)\n",
      "C:\\Users\\Formulatrix\\anaconda3\\lib\\site-packages\\seaborn\\_decorators.py:36: FutureWarning: Pass the following variable as a keyword arg: x. From version 0.12, the only valid positional argument will be `data`, and passing other arguments without an explicit keyword will result in an error or misinterpretation.\n",
      "  warnings.warn(\n",
      "C:\\Users\\Formulatrix\\anaconda3\\lib\\site-packages\\seaborn\\_core.py:1319: UserWarning: Vertical orientation ignored with only `x` specified.\n",
      "  warnings.warn(single_var_warning.format(\"Vertical\", \"x\"))\n",
      "<ipython-input-31-917cb0457d1b>:10: MatplotlibDeprecationWarning: Passing non-integers as three-element position specification is deprecated since 3.3 and will be removed two minor releases later.\n",
      "  plt.subplot(number_of_rows + 1,number_of_columns,i+1)\n",
      "C:\\Users\\Formulatrix\\anaconda3\\lib\\site-packages\\seaborn\\_decorators.py:36: FutureWarning: Pass the following variable as a keyword arg: x. From version 0.12, the only valid positional argument will be `data`, and passing other arguments without an explicit keyword will result in an error or misinterpretation.\n",
      "  warnings.warn(\n",
      "C:\\Users\\Formulatrix\\anaconda3\\lib\\site-packages\\seaborn\\_core.py:1319: UserWarning: Vertical orientation ignored with only `x` specified.\n",
      "  warnings.warn(single_var_warning.format(\"Vertical\", \"x\"))\n",
      "<ipython-input-31-917cb0457d1b>:10: MatplotlibDeprecationWarning: Passing non-integers as three-element position specification is deprecated since 3.3 and will be removed two minor releases later.\n",
      "  plt.subplot(number_of_rows + 1,number_of_columns,i+1)\n",
      "C:\\Users\\Formulatrix\\anaconda3\\lib\\site-packages\\seaborn\\_decorators.py:36: FutureWarning: Pass the following variable as a keyword arg: x. From version 0.12, the only valid positional argument will be `data`, and passing other arguments without an explicit keyword will result in an error or misinterpretation.\n",
      "  warnings.warn(\n",
      "C:\\Users\\Formulatrix\\anaconda3\\lib\\site-packages\\seaborn\\_core.py:1319: UserWarning: Vertical orientation ignored with only `x` specified.\n",
      "  warnings.warn(single_var_warning.format(\"Vertical\", \"x\"))\n",
      "<ipython-input-31-917cb0457d1b>:10: MatplotlibDeprecationWarning: Passing non-integers as three-element position specification is deprecated since 3.3 and will be removed two minor releases later.\n",
      "  plt.subplot(number_of_rows + 1,number_of_columns,i+1)\n",
      "C:\\Users\\Formulatrix\\anaconda3\\lib\\site-packages\\seaborn\\_decorators.py:36: FutureWarning: Pass the following variable as a keyword arg: x. From version 0.12, the only valid positional argument will be `data`, and passing other arguments without an explicit keyword will result in an error or misinterpretation.\n",
      "  warnings.warn(\n",
      "C:\\Users\\Formulatrix\\anaconda3\\lib\\site-packages\\seaborn\\_core.py:1319: UserWarning: Vertical orientation ignored with only `x` specified.\n",
      "  warnings.warn(single_var_warning.format(\"Vertical\", \"x\"))\n",
      "<ipython-input-31-917cb0457d1b>:10: MatplotlibDeprecationWarning: Passing non-integers as three-element position specification is deprecated since 3.3 and will be removed two minor releases later.\n",
      "  plt.subplot(number_of_rows + 1,number_of_columns,i+1)\n",
      "C:\\Users\\Formulatrix\\anaconda3\\lib\\site-packages\\seaborn\\_decorators.py:36: FutureWarning: Pass the following variable as a keyword arg: x. From version 0.12, the only valid positional argument will be `data`, and passing other arguments without an explicit keyword will result in an error or misinterpretation.\n",
      "  warnings.warn(\n",
      "C:\\Users\\Formulatrix\\anaconda3\\lib\\site-packages\\seaborn\\_core.py:1319: UserWarning: Vertical orientation ignored with only `x` specified.\n",
      "  warnings.warn(single_var_warning.format(\"Vertical\", \"x\"))\n",
      "<ipython-input-31-917cb0457d1b>:10: MatplotlibDeprecationWarning: Passing non-integers as three-element position specification is deprecated since 3.3 and will be removed two minor releases later.\n",
      "  plt.subplot(number_of_rows + 1,number_of_columns,i+1)\n",
      "C:\\Users\\Formulatrix\\anaconda3\\lib\\site-packages\\seaborn\\_decorators.py:36: FutureWarning: Pass the following variable as a keyword arg: x. From version 0.12, the only valid positional argument will be `data`, and passing other arguments without an explicit keyword will result in an error or misinterpretation.\n",
      "  warnings.warn(\n",
      "C:\\Users\\Formulatrix\\anaconda3\\lib\\site-packages\\seaborn\\_core.py:1319: UserWarning: Vertical orientation ignored with only `x` specified.\n",
      "  warnings.warn(single_var_warning.format(\"Vertical\", \"x\"))\n",
      "<ipython-input-31-917cb0457d1b>:10: MatplotlibDeprecationWarning: Passing non-integers as three-element position specification is deprecated since 3.3 and will be removed two minor releases later.\n",
      "  plt.subplot(number_of_rows + 1,number_of_columns,i+1)\n",
      "C:\\Users\\Formulatrix\\anaconda3\\lib\\site-packages\\seaborn\\_decorators.py:36: FutureWarning: Pass the following variable as a keyword arg: x. From version 0.12, the only valid positional argument will be `data`, and passing other arguments without an explicit keyword will result in an error or misinterpretation.\n",
      "  warnings.warn(\n",
      "C:\\Users\\Formulatrix\\anaconda3\\lib\\site-packages\\seaborn\\_core.py:1319: UserWarning: Vertical orientation ignored with only `x` specified.\n",
      "  warnings.warn(single_var_warning.format(\"Vertical\", \"x\"))\n"
     ]
    },
    {
     "data": {
      "image/png": "[encoded data removed]",
      "text/plain": [
       "<Figure size 504x2468.57 with 7 Axes>"
      ]
     },
     "metadata": {},
     "output_type": "display_data"
    }
   ],
   "source": [
    "# Check the outliers\n",
    "\n",
    "l = ['title_proximity_tfidf', 'description_proximity_tfidf',\n",
    "       'main_query_tfidf', 'query_jl_score', 'query_title_score',\n",
    "       'city_match', 'job_age_days']\n",
    "number_of_columns=7\n",
    "number_of_rows = len(l)-1/number_of_columns\n",
    "plt.figure(figsize=(number_of_columns,5*number_of_rows))\n",
    "for i in range(0,len(l)):\n",
    "    plt.subplot(number_of_rows + 1,number_of_columns,i+1)\n",
    "    sns.set_style('whitegrid')\n",
    "    sns.boxplot(df[l[i]], orient=\"v\")\n",
    "    plt.tight_layout()"
   ]
  },
  {
   "cell_type": "markdown",
   "metadata": {
    "id": "dXNgVJk1n1rx"
   },
   "source": [
    "**Observation:**\n",
    "\n",
    "As we can see there are lot of outliers in the data"
   ]
  },
  {
   "cell_type": "code",
   "execution_count": 32,
   "metadata": {
    "id": "HIjuDkiWnwDD"
   },
   "outputs": [
    {
     "name": "stderr",
     "output_type": "stream",
     "text": [
      "C:\\Users\\Formulatrix\\anaconda3\\lib\\site-packages\\seaborn\\distributions.py:2557: FutureWarning: `distplot` is a deprecated function and will be removed in a future version. Please adapt your code to use either `displot` (a figure-level function with similar flexibility) or `histplot` (an axes-level function for histograms).\n",
      "  warnings.warn(msg, FutureWarning)\n",
      "C:\\Users\\Formulatrix\\anaconda3\\lib\\site-packages\\seaborn\\distributions.py:2557: FutureWarning: `distplot` is a deprecated function and will be removed in a future version. Please adapt your code to use either `displot` (a figure-level function with similar flexibility) or `histplot` (an axes-level function for histograms).\n",
      "  warnings.warn(msg, FutureWarning)\n"
     ]
    },
    {
     "data": {
      "image/png": "[encoded data removed]",
      "text/plain": [
       "<Figure size 432x288 with 1 Axes>"
      ]
     },
     "metadata": {},
     "output_type": "display_data"
    },
    {
     "name": "stderr",
     "output_type": "stream",
     "text": [
      "C:\\Users\\Formulatrix\\anaconda3\\lib\\site-packages\\seaborn\\distributions.py:2557: FutureWarning: `distplot` is a deprecated function and will be removed in a future version. Please adapt your code to use either `displot` (a figure-level function with similar flexibility) or `histplot` (an axes-level function for histograms).\n",
      "  warnings.warn(msg, FutureWarning)\n",
      "C:\\Users\\Formulatrix\\anaconda3\\lib\\site-packages\\seaborn\\distributions.py:2557: FutureWarning: `distplot` is a deprecated function and will be removed in a future version. Please adapt your code to use either `displot` (a figure-level function with similar flexibility) or `histplot` (an axes-level function for histograms).\n",
      "  warnings.warn(msg, FutureWarning)\n"
     ]
    },
    {
     "data": {
      "image/png": "[encoded data removed]",
      "text/plain": [
       "<Figure size 432x288 with 1 Axes>"
      ]
     },
     "metadata": {},
     "output_type": "display_data"
    },
    {
     "name": "stderr",
     "output_type": "stream",
     "text": [
      "C:\\Users\\Formulatrix\\anaconda3\\lib\\site-packages\\seaborn\\distributions.py:2557: FutureWarning: `distplot` is a deprecated function and will be removed in a future version. Please adapt your code to use either `displot` (a figure-level function with similar flexibility) or `histplot` (an axes-level function for histograms).\n",
      "  warnings.warn(msg, FutureWarning)\n",
      "C:\\Users\\Formulatrix\\anaconda3\\lib\\site-packages\\seaborn\\distributions.py:2557: FutureWarning: `distplot` is a deprecated function and will be removed in a future version. Please adapt your code to use either `displot` (a figure-level function with similar flexibility) or `histplot` (an axes-level function for histograms).\n",
      "  warnings.warn(msg, FutureWarning)\n"
     ]
    },
    {
     "data": {
      "image/png": "[encoded data removed]",
      "text/plain": [
       "<Figure size 432x288 with 1 Axes>"
      ]
     },
     "metadata": {},
     "output_type": "display_data"
    },
    {
     "name": "stderr",
     "output_type": "stream",
     "text": [
      "C:\\Users\\Formulatrix\\anaconda3\\lib\\site-packages\\seaborn\\distributions.py:2557: FutureWarning: `distplot` is a deprecated function and will be removed in a future version. Please adapt your code to use either `displot` (a figure-level function with similar flexibility) or `histplot` (an axes-level function for histograms).\n",
      "  warnings.warn(msg, FutureWarning)\n",
      "C:\\Users\\Formulatrix\\anaconda3\\lib\\site-packages\\seaborn\\distributions.py:2557: FutureWarning: `distplot` is a deprecated function and will be removed in a future version. Please adapt your code to use either `displot` (a figure-level function with similar flexibility) or `histplot` (an axes-level function for histograms).\n",
      "  warnings.warn(msg, FutureWarning)\n"
     ]
    },
    {
     "data": {
      "image/png": "[encoded data removed]",
      "text/plain": [
       "<Figure size 432x288 with 1 Axes>"
      ]
     },
     "metadata": {},
     "output_type": "display_data"
    },
    {
     "name": "stderr",
     "output_type": "stream",
     "text": [
      "C:\\Users\\Formulatrix\\anaconda3\\lib\\site-packages\\seaborn\\distributions.py:2557: FutureWarning: `distplot` is a deprecated function and will be removed in a future version. Please adapt your code to use either `displot` (a figure-level function with similar flexibility) or `histplot` (an axes-level function for histograms).\n",
      "  warnings.warn(msg, FutureWarning)\n",
      "C:\\Users\\Formulatrix\\anaconda3\\lib\\site-packages\\seaborn\\distributions.py:2557: FutureWarning: `distplot` is a deprecated function and will be removed in a future version. Please adapt your code to use either `displot` (a figure-level function with similar flexibility) or `histplot` (an axes-level function for histograms).\n",
      "  warnings.warn(msg, FutureWarning)\n"
     ]
    },
    {
     "data": {
      "image/png": "[encoded data removed]",
      "text/plain": [
       "<Figure size 432x288 with 1 Axes>"
      ]
     },
     "metadata": {},
     "output_type": "display_data"
    },
    {
     "name": "stderr",
     "output_type": "stream",
     "text": [
      "C:\\Users\\Formulatrix\\anaconda3\\lib\\site-packages\\seaborn\\distributions.py:2557: FutureWarning: `distplot` is a deprecated function and will be removed in a future version. Please adapt your code to use either `displot` (a figure-level function with similar flexibility) or `histplot` (an axes-level function for histograms).\n",
      "  warnings.warn(msg, FutureWarning)\n",
      "C:\\Users\\Formulatrix\\anaconda3\\lib\\site-packages\\seaborn\\distributions.py:2557: FutureWarning: `distplot` is a deprecated function and will be removed in a future version. Please adapt your code to use either `displot` (a figure-level function with similar flexibility) or `histplot` (an axes-level function for histograms).\n",
      "  warnings.warn(msg, FutureWarning)\n"
     ]
    },
    {
     "data": {
      "image/png": "[encoded data removed]",
      "text/plain": [
       "<Figure size 432x288 with 1 Axes>"
      ]
     },
     "metadata": {},
     "output_type": "display_data"
    },
    {
     "name": "stderr",
     "output_type": "stream",
     "text": [
      "C:\\Users\\Formulatrix\\anaconda3\\lib\\site-packages\\seaborn\\distributions.py:2557: FutureWarning: `distplot` is a deprecated function and will be removed in a future version. Please adapt your code to use either `displot` (a figure-level function with similar flexibility) or `histplot` (an axes-level function for histograms).\n",
      "  warnings.warn(msg, FutureWarning)\n",
      "C:\\Users\\Formulatrix\\anaconda3\\lib\\site-packages\\seaborn\\distributions.py:2557: FutureWarning: `distplot` is a deprecated function and will be removed in a future version. Please adapt your code to use either `displot` (a figure-level function with similar flexibility) or `histplot` (an axes-level function for histograms).\n",
      "  warnings.warn(msg, FutureWarning)\n"
     ]
    },
    {
     "data": {
      "image/png": "[encoded data removed]",
      "text/plain": [
       "<Figure size 432x288 with 1 Axes>"
      ]
     },
     "metadata": {},
     "output_type": "display_data"
    },
    {
     "name": "stderr",
     "output_type": "stream",
     "text": [
      "C:\\Users\\Formulatrix\\anaconda3\\lib\\site-packages\\seaborn\\distributions.py:2557: FutureWarning: `distplot` is a deprecated function and will be removed in a future version. Please adapt your code to use either `displot` (a figure-level function with similar flexibility) or `histplot` (an axes-level function for histograms).\n",
      "  warnings.warn(msg, FutureWarning)\n",
      "C:\\Users\\Formulatrix\\anaconda3\\lib\\site-packages\\seaborn\\distributions.py:306: UserWarning: Dataset has 0 variance; skipping density estimate.\n",
      "  warnings.warn(msg, UserWarning)\n",
      "C:\\Users\\Formulatrix\\anaconda3\\lib\\site-packages\\seaborn\\distributions.py:2557: FutureWarning: `distplot` is a deprecated function and will be removed in a future version. Please adapt your code to use either `displot` (a figure-level function with similar flexibility) or `histplot` (an axes-level function for histograms).\n",
      "  warnings.warn(msg, FutureWarning)\n",
      "C:\\Users\\Formulatrix\\anaconda3\\lib\\site-packages\\seaborn\\distributions.py:306: UserWarning: Dataset has 0 variance; skipping density estimate.\n",
      "  warnings.warn(msg, UserWarning)\n"
     ]
    },
    {
     "data": {
      "image/png": "[encoded data removed]",
      "text/plain": [
       "<Figure size 432x288 with 1 Axes>"
      ]
     },
     "metadata": {},
     "output_type": "display_data"
    }
   ],
   "source": [
    "# Check the distribution\n",
    "\n",
    "# Now to check the linearity of the variables it is a good practice to plot distribution graph and look for skewness \n",
    "# of features. Kernel density estimate (kde) is a quite useful tool for plotting the shape of a distribution.\n",
    "\n",
    "for feature in df.columns[:-2]:\n",
    "    ax = plt.subplot()\n",
    "    sns.distplot(df[df['apply'] == 1][feature], bins=50, label='Anormal')\n",
    "    sns.distplot(df[df['apply'] == 0][feature], bins=50, label='Normal')\n",
    "    ax.set_xlabel('')\n",
    "    ax.set_title('histogram of feature: ' + str(feature))\n",
    "    plt.legend(loc='best')\n",
    "    plt.show()"
   ]
  },
  {
   "cell_type": "markdown",
   "metadata": {
    "id": "vC_viOtYn_GZ"
   },
   "source": [
    "**Observation:**\n",
    "\n",
    "For all the features, both apply and non apply rates have almost similar distributions"
   ]
  },
  {
   "cell_type": "markdown",
   "metadata": {
    "id": "TgEO8i-WouWR"
   },
   "source": [
    "### Data Cleaning"
   ]
  },
  {
   "cell_type": "code",
   "execution_count": 33,
   "metadata": {
    "id": "dIUg-7jTn023"
   },
   "outputs": [
    {
     "name": "stdout",
     "output_type": "stream",
     "text": [
      "(1200890, 10)\n"
     ]
    },
    {
     "data": {
      "text/plain": [
       "(1114759, 10)"
      ]
     },
     "execution_count": 33,
     "metadata": {},
     "output_type": "execute_result"
    }
   ],
   "source": [
    "# Firstly lets drop duplicate entries \n",
    "\n",
    "print(df.shape)\n",
    "df = df.drop_duplicates(keep = 'first')\n",
    "df.shape"
   ]
  },
  {
   "cell_type": "code",
   "execution_count": 34,
   "metadata": {
    "id": "mbCj3Ezlp1V2"
   },
   "outputs": [
    {
     "data": {
      "text/plain": [
       "title_proximity_tfidf          212030\n",
       "description_proximity_tfidf    212030\n",
       "main_query_tfidf                    0\n",
       "query_jl_score                      0\n",
       "query_title_score                   0\n",
       "city_match                     243469\n",
       "job_age_days                        0\n",
       "apply                               0\n",
       "search_date_pacific                 0\n",
       "class_id                            0\n",
       "dtype: int64"
      ]
     },
     "execution_count": 34,
     "metadata": {},
     "output_type": "execute_result"
    }
   ],
   "source": [
    "# Check number of missing values in every columns\n",
    "df.isnull().sum()"
   ]
  },
  {
   "cell_type": "code",
   "execution_count": 35,
   "metadata": {
    "id": "2Mit7jD8qUaT"
   },
   "outputs": [
    {
     "data": {
      "text/plain": [
       "0.000000     612554\n",
       "23.526310        14\n",
       "8.866092         14\n",
       "19.385944        14\n",
       "33.553123        12\n",
       "Name: title_proximity_tfidf, dtype: int64"
      ]
     },
     "execution_count": 35,
     "metadata": {},
     "output_type": "execute_result"
    }
   ],
   "source": [
    "# Lets check the value counts for the three columns\n",
    "df['title_proximity_tfidf'].value_counts().head()"
   ]
  },
  {
   "cell_type": "code",
   "execution_count": 36,
   "metadata": {
    "id": "7VdALrKlqa_U"
   },
   "outputs": [
    {
     "data": {
      "text/plain": [
       "0.000000    510731\n",
       "1.814926         9\n",
       "0.012474         8\n",
       "0.716942         7\n",
       "0.025261         6\n",
       "Name: description_proximity_tfidf, dtype: int64"
      ]
     },
     "execution_count": 36,
     "metadata": {},
     "output_type": "execute_result"
    }
   ],
   "source": [
    "df['description_proximity_tfidf'].value_counts().head()"
   ]
  },
  {
   "cell_type": "code",
   "execution_count": 37,
   "metadata": {
    "id": "711i3e2DqjT3"
   },
   "outputs": [
    {
     "data": {
      "text/plain": [
       "1.0    486385\n",
       "0.0    384905\n",
       "Name: city_match, dtype: int64"
      ]
     },
     "execution_count": 37,
     "metadata": {},
     "output_type": "execute_result"
    }
   ],
   "source": [
    "df['city_match'].value_counts().head()"
   ]
  },
  {
   "cell_type": "markdown",
   "metadata": {
    "id": "WlS70mbYqv57"
   },
   "source": [
    "**Observation:**\n",
    "\n",
    "The first 2 columns contains mostly value zero so it would be a safe option to impute a value of '0' to the first two columns. For the 'city-match' column, lets check the percentage of apply and non apply before and after we remove the NaN values. If the percentage is same, we can conclude that it is safe to remove rows that have NaN values in City_match column."
   ]
  },
  {
   "cell_type": "code",
   "execution_count": 38,
   "metadata": {
    "id": "MTknm-gzq613"
   },
   "outputs": [],
   "source": [
    "df['title_proximity_tfidf'].fillna(0,inplace=True)\n",
    "df['description_proximity_tfidf'].fillna(0,inplace=True)\n",
    "df.dropna(subset=['city_match'],inplace=True)"
   ]
  },
  {
   "cell_type": "markdown",
   "metadata": {
    "id": "7VYbbAenrCNg"
   },
   "source": [
    "Note: I will not be removing outliers since there is possibility of them carrying important information which can help us detect the apply and non apply cases"
   ]
  },
  {
   "cell_type": "code",
   "execution_count": 39,
   "metadata": {
    "id": "IpPePtu6q_VM"
   },
   "outputs": [
    {
     "name": "stdout",
     "output_type": "stream",
     "text": [
      "<class 'pandas.core.frame.DataFrame'>\n",
      "Int64Index: 871290 entries, 0 to 1200889\n",
      "Data columns (total 10 columns):\n",
      " #   Column                       Non-Null Count   Dtype  \n",
      "---  ------                       --------------   -----  \n",
      " 0   title_proximity_tfidf        871290 non-null  float64\n",
      " 1   description_proximity_tfidf  871290 non-null  float64\n",
      " 2   main_query_tfidf             871290 non-null  float64\n",
      " 3   query_jl_score               871290 non-null  float64\n",
      " 4   query_title_score            871290 non-null  float64\n",
      " 5   city_match                   871290 non-null  float64\n",
      " 6   job_age_days                 871290 non-null  float64\n",
      " 7   apply                        871290 non-null  int64  \n",
      " 8   search_date_pacific          871290 non-null  object \n",
      " 9   class_id                     871290 non-null  int64  \n",
      "dtypes: float64(7), int64(2), object(1)\n",
      "memory usage: 73.1+ MB\n"
     ]
    }
   ],
   "source": [
    "df.info()"
   ]
  },
  {
   "cell_type": "code",
   "execution_count": 40,
   "metadata": {
    "id": "vCoH_nwyCL7Z"
   },
   "outputs": [],
   "source": [
    "# From the correlation graph, we observed that title_proximity_tfidf and main_query_tfidf are quite correlated, \n",
    "# lets merge them and get a single feature by multiplying both of them\n",
    "\n",
    "df['main_title_tfidf'] = df['title_proximity_tfidf']*df['main_query_tfidf']"
   ]
  },
  {
   "cell_type": "code",
   "execution_count": 41,
   "metadata": {
    "id": "fFsfYZjLCSPh"
   },
   "outputs": [],
   "source": [
    "df = df.drop(['title_proximity_tfidf','main_query_tfidf'], axis=1)"
   ]
  },
  {
   "cell_type": "code",
   "execution_count": 42,
   "metadata": {},
   "outputs": [
    {
     "data": {
      "text/html": [
       "<div>\n",
       "<style scoped>\n",
       "    .dataframe tbody tr th:only-of-type {\n",
       "        vertical-align: middle;\n",
       "    }\n",
       "\n",
       "    .dataframe tbody tr th {\n",
       "        vertical-align: top;\n",
       "    }\n",
       "\n",
       "    .dataframe thead th {\n",
       "        text-align: right;\n",
       "    }\n",
       "</style>\n",
       "<table border=\"1\" class=\"dataframe\">\n",
       "  <thead>\n",
       "    <tr style=\"text-align: right;\">\n",
       "      <th></th>\n",
       "      <th>description_proximity_tfidf</th>\n",
       "      <th>query_jl_score</th>\n",
       "      <th>query_title_score</th>\n",
       "      <th>city_match</th>\n",
       "      <th>job_age_days</th>\n",
       "      <th>apply</th>\n",
       "      <th>search_date_pacific</th>\n",
       "      <th>class_id</th>\n",
       "      <th>main_title_tfidf</th>\n",
       "    </tr>\n",
       "  </thead>\n",
       "  <tbody>\n",
       "    <tr>\n",
       "      <th>0</th>\n",
       "      <td>0.000000</td>\n",
       "      <td>0.004824</td>\n",
       "      <td>0.006628</td>\n",
       "      <td>0.0</td>\n",
       "      <td>5.0</td>\n",
       "      <td>0</td>\n",
       "      <td>2018-01-21</td>\n",
       "      <td>-7613806991329176388</td>\n",
       "      <td>0.00000</td>\n",
       "    </tr>\n",
       "    <tr>\n",
       "      <th>1</th>\n",
       "      <td>0.043637</td>\n",
       "      <td>0.011935</td>\n",
       "      <td>0.011208</td>\n",
       "      <td>0.0</td>\n",
       "      <td>5.0</td>\n",
       "      <td>0</td>\n",
       "      <td>2018-01-21</td>\n",
       "      <td>-1361819269400927213</td>\n",
       "      <td>30.00666</td>\n",
       "    </tr>\n",
       "    <tr>\n",
       "      <th>2</th>\n",
       "      <td>0.043637</td>\n",
       "      <td>0.011935</td>\n",
       "      <td>0.011208</td>\n",
       "      <td>0.0</td>\n",
       "      <td>5.0</td>\n",
       "      <td>1</td>\n",
       "      <td>2018-01-21</td>\n",
       "      <td>-1361819269400927213</td>\n",
       "      <td>30.00666</td>\n",
       "    </tr>\n",
       "    <tr>\n",
       "      <th>3</th>\n",
       "      <td>0.000000</td>\n",
       "      <td>0.013046</td>\n",
       "      <td>0.033340</td>\n",
       "      <td>0.0</td>\n",
       "      <td>5.0</td>\n",
       "      <td>0</td>\n",
       "      <td>2018-01-23</td>\n",
       "      <td>-3623880078591607667</td>\n",
       "      <td>0.00000</td>\n",
       "    </tr>\n",
       "    <tr>\n",
       "      <th>4</th>\n",
       "      <td>0.000000</td>\n",
       "      <td>0.008065</td>\n",
       "      <td>0.008772</td>\n",
       "      <td>0.0</td>\n",
       "      <td>7.0</td>\n",
       "      <td>0</td>\n",
       "      <td>2018-01-24</td>\n",
       "      <td>-7054510112423797411</td>\n",
       "      <td>0.00000</td>\n",
       "    </tr>\n",
       "  </tbody>\n",
       "</table>\n",
       "</div>"
      ],
      "text/plain": [
       "   description_proximity_tfidf  query_jl_score  query_title_score  city_match  \\\n",
       "0                     0.000000        0.004824           0.006628         0.0   \n",
       "1                     0.043637        0.011935           0.011208         0.0   \n",
       "2                     0.043637        0.011935           0.011208         0.0   \n",
       "3                     0.000000        0.013046           0.033340         0.0   \n",
       "4                     0.000000        0.008065           0.008772         0.0   \n",
       "\n",
       "   job_age_days  apply search_date_pacific             class_id  \\\n",
       "0           5.0      0          2018-01-21 -7613806991329176388   \n",
       "1           5.0      0          2018-01-21 -1361819269400927213   \n",
       "2           5.0      1          2018-01-21 -1361819269400927213   \n",
       "3           5.0      0          2018-01-23 -3623880078591607667   \n",
       "4           7.0      0          2018-01-24 -7054510112423797411   \n",
       "\n",
       "   main_title_tfidf  \n",
       "0           0.00000  \n",
       "1          30.00666  \n",
       "2          30.00666  \n",
       "3           0.00000  \n",
       "4           0.00000  "
      ]
     },
     "execution_count": 42,
     "metadata": {},
     "output_type": "execute_result"
    }
   ],
   "source": [
    "df.head()"
   ]
  },
  {
   "cell_type": "code",
   "execution_count": 43,
   "metadata": {
    "id": "O1VZRqI6CTk_"
   },
   "outputs": [],
   "source": [
    "from sklearn.model_selection import train_test_split\n",
    "\n",
    "df_train_full, df_test = train_test_split(df, test_size=0.2, random_state=11)\n",
    "df_train, df_val = train_test_split(df_train_full, test_size=0.25, random_state=11)"
   ]
  },
  {
   "cell_type": "code",
   "execution_count": 44,
   "metadata": {
    "id": "7ZcWg6DCPh6q"
   },
   "outputs": [
    {
     "data": {
      "text/plain": [
       "(522774, 174258, 174258)"
      ]
     },
     "execution_count": 44,
     "metadata": {},
     "output_type": "execute_result"
    }
   ],
   "source": [
    "len(df_train), len(df_val), len(df_test)"
   ]
  },
  {
   "cell_type": "code",
   "execution_count": 46,
   "metadata": {},
   "outputs": [],
   "source": [
    "y_train = df_train['apply'].values\n",
    "y_val = df_val['apply'].values"
   ]
  },
  {
   "cell_type": "code",
   "execution_count": 47,
   "metadata": {},
   "outputs": [],
   "source": [
    "del df_train['apply']\n",
    "del df_val['apply']"
   ]
  },
  {
   "cell_type": "code",
   "execution_count": 48,
   "metadata": {},
   "outputs": [
    {
     "ename": "NameError",
     "evalue": "name 'X_train' is not defined",
     "output_type": "error",
     "traceback": [
      "\u001b[1;31m---------------------------------------------------------------------------\u001b[0m",
      "\u001b[1;31mNameError\u001b[0m                                 Traceback (most recent call last)",
      "\u001b[1;32m<ipython-input-48-fb48df5506b7>\u001b[0m in \u001b[0;36m<module>\u001b[1;34m\u001b[0m\n\u001b[0;32m      2\u001b[0m \u001b[1;33m\u001b[0m\u001b[0m\n\u001b[0;32m      3\u001b[0m \u001b[0mdt\u001b[0m \u001b[1;33m=\u001b[0m \u001b[0mDecisionTreeClassifier\u001b[0m\u001b[1;33m(\u001b[0m\u001b[1;33m)\u001b[0m\u001b[1;33m\u001b[0m\u001b[1;33m\u001b[0m\u001b[0m\n\u001b[1;32m----> 4\u001b[1;33m \u001b[0mdt\u001b[0m\u001b[1;33m.\u001b[0m\u001b[0mfit\u001b[0m\u001b[1;33m(\u001b[0m\u001b[0mX_train\u001b[0m\u001b[1;33m,\u001b[0m \u001b[0my_train\u001b[0m\u001b[1;33m)\u001b[0m\u001b[1;33m\u001b[0m\u001b[1;33m\u001b[0m\u001b[0m\n\u001b[0m",
      "\u001b[1;31mNameError\u001b[0m: name 'X_train' is not defined"
     ]
    }
   ],
   "source": [
    "from sklearn.tree import DecisionTreeClassifier\n",
    "\n",
    "dt = DecisionTreeClassifier()\n",
    "dt.fit(X_train, y_train)"
   ]
  },
  {
   "cell_type": "code",
   "execution_count": null,
   "metadata": {},
   "outputs": [],
   "source": []
  }
 ],
 "metadata": {
  "colab": {
   "name": "Predict Apply rate for a job search agency.ipynb",
   "provenance": []
  },
  "kernelspec": {
   "display_name": "Python 3",
   "language": "python",
   "name": "python3"
  },
  "language_info": {
   "codemirror_mode": {
    "name": "ipython",
    "version": 3
   },
   "file_extension": ".py",
   "mimetype": "text/x-python",
   "name": "python",
   "nbconvert_exporter": "python",
   "pygments_lexer": "ipython3",
   "version": "3.8.8"
  }
 },
 "nbformat": 4,
 "nbformat_minor": 1
}
